{
 "cells": [
  {
   "cell_type": "code",
   "execution_count": 10,
   "id": "a71c73e7",
   "metadata": {},
   "outputs": [],
   "source": [
    "from network import Network\n",
    "from customDtype import custom\n",
    "#from gensim.models import KeyedVectors\n",
    "import numpy as np"
   ]
  },
  {
   "cell_type": "code",
   "execution_count": 11,
   "id": "37cd261a",
   "metadata": {},
   "outputs": [],
   "source": [
    "#kv_model = KeyedVectors.load_word2vec_format('/home/meet/Meet/Models/fasttext/wiki-news-300d-1M-subword.vec')"
   ]
  },
  {
   "cell_type": "code",
   "execution_count": 12,
   "id": "6fb203c7",
   "metadata": {},
   "outputs": [
    {
     "ename": "AttributeError",
     "evalue": "'list' object has no attribute 'softmax'",
     "output_type": "error",
     "traceback": [
      "\u001b[0;31m---------------------------------------------------------------------------\u001b[0m",
      "\u001b[0;31mAttributeError\u001b[0m                            Traceback (most recent call last)",
      "Input \u001b[0;32mIn [12]\u001b[0m, in \u001b[0;36m<cell line: 3>\u001b[0;34m()\u001b[0m\n\u001b[1;32m      1\u001b[0m x \u001b[38;5;241m=\u001b[39m [\u001b[38;5;241m2.0\u001b[39m, \u001b[38;5;241m3.0\u001b[39m, \u001b[38;5;241m-\u001b[39m\u001b[38;5;241m1.0\u001b[39m]\n\u001b[1;32m      2\u001b[0m NN \u001b[38;5;241m=\u001b[39m Network(\u001b[38;5;241m3\u001b[39m,[\u001b[38;5;241m5\u001b[39m,\u001b[38;5;241m5\u001b[39m,\u001b[38;5;241m3\u001b[39m],initType\u001b[38;5;241m=\u001b[39m\u001b[38;5;124m'\u001b[39m\u001b[38;5;124mgauss\u001b[39m\u001b[38;5;124m'\u001b[39m)\n\u001b[0;32m----> 3\u001b[0m \u001b[43mNN\u001b[49m\u001b[43m(\u001b[49m\u001b[43mx\u001b[49m\u001b[43m)\u001b[49m\u001b[38;5;241;43m.\u001b[39;49m\u001b[43msoftmax\u001b[49m()\n",
      "\u001b[0;31mAttributeError\u001b[0m: 'list' object has no attribute 'softmax'"
     ]
    }
   ],
   "source": [
    "x = [2.0, 3.0, -1.0]\n",
    "NN = Network(3,[5,5,3],initType='gauss')\n",
    "out = NN(x)"
   ]
  },
  {
   "cell_type": "code",
   "execution_count": 4,
   "id": "57cb9ca7",
   "metadata": {},
   "outputs": [],
   "source": [
    "#out = NN(list(kv_model['man']))"
   ]
  },
  {
   "cell_type": "code",
   "execution_count": 5,
   "id": "10654abf",
   "metadata": {},
   "outputs": [],
   "source": [
    "# def formard_pass(word=\"\"):\n",
    "#     vector = list(kv_model[word])\n",
    "#     out = NN(vector)\n",
    "#     return out\n",
    "\n",
    "# def backward_pass(actual,predicted):\n",
    "#     loss = ce_loss(actual,predicted)\n",
    "    "
   ]
  },
  {
   "cell_type": "code",
   "execution_count": 6,
   "id": "3d44191f",
   "metadata": {},
   "outputs": [
    {
     "data": {
      "text/plain": [
       "[[Value = 0.8909128597795593 Gradient = 0.0,\n",
       "  Value = 0 Gradient = 0.0,\n",
       "  Value = 0.9112766918297108 Gradient = 0.0],\n",
       " [Value = 0.12217240976783901 Gradient = 0.0,\n",
       "  Value = 1.2424937835584622 Gradient = 0.0,\n",
       "  Value = 0 Gradient = 0.0],\n",
       " [Value = 0.49444400964576773 Gradient = 0.0,\n",
       "  Value = 0 Gradient = 0.0,\n",
       "  Value = 0.5814936194603134 Gradient = 0.0],\n",
       " [Value = 0.7139785697464739 Gradient = 0.0,\n",
       "  Value = 0 Gradient = 0.0,\n",
       "  Value = 0.8342788688008751 Gradient = 0.0]]"
      ]
     },
     "execution_count": 6,
     "metadata": {},
     "output_type": "execute_result"
    }
   ],
   "source": [
    "xs = [\n",
    "    [2.0, 3.0, -1.0],\n",
    "    [3.0, -1.0, -0.5],\n",
    "    [0.5, 1.0, 1.0],\n",
    "    [1.0, 1.0, -1.0]\n",
    "]\n",
    "ys = [[1.0, -1.0, -1.0],[1.0, -1.0, -1.0],[1.0, -1.0, -1.0],[1.0, -1.0, -1.0]]\n",
    "ypred = [NN(x) for x in xs]\n",
    "ypred"
   ]
  },
  {
   "cell_type": "code",
   "execution_count": 7,
   "id": "9c5f78de",
   "metadata": {},
   "outputs": [],
   "source": [
    "def ce_loss(actual,predicted):\n",
    "    diff = custom(0)\n",
    "    for act,pred in zip(actual,predicted):\n",
    "        for a,b in zip(act,pred):\n",
    "            diff -= (a*b.log())\n",
    "    loss = diff / len(predicted)\n",
    "    return loss"
   ]
  },
  {
   "cell_type": "code",
   "execution_count": 8,
   "id": "5bab4021",
   "metadata": {
    "scrolled": true
   },
   "outputs": [
    {
     "name": "stderr",
     "output_type": "stream",
     "text": [
      "/tmp/ipykernel_39553/2304564180.py:5: RuntimeWarning: divide by zero encountered in log\n",
      "  diff -= (a*np.log(b.val))\n"
     ]
    },
    {
     "data": {
      "text/plain": [
       "Value = -inf Gradient = 0.0"
      ]
     },
     "execution_count": 8,
     "metadata": {},
     "output_type": "execute_result"
    }
   ],
   "source": [
    "loss = ce_loss(ys,ypred)\n",
    "loss"
   ]
  },
  {
   "cell_type": "code",
   "execution_count": 9,
   "id": "2f73b757",
   "metadata": {},
   "outputs": [
    {
     "name": "stdout",
     "output_type": "stream",
     "text": [
      "<class 'customDtype.custom'> -inf\n",
      "<class 'customDtype.custom'> -inf\n"
     ]
    },
    {
     "ename": "AttributeError",
     "evalue": "'tuple' object has no attribute 'val'",
     "output_type": "error",
     "traceback": [
      "\u001b[0;31m---------------------------------------------------------------------------\u001b[0m",
      "\u001b[0;31mAttributeError\u001b[0m                            Traceback (most recent call last)",
      "Input \u001b[0;32mIn [9]\u001b[0m, in \u001b[0;36m<cell line: 1>\u001b[0;34m()\u001b[0m\n\u001b[0;32m----> 1\u001b[0m \u001b[43mloss\u001b[49m\u001b[38;5;241;43m.\u001b[39;49m\u001b[43mbackprop\u001b[49m\u001b[43m(\u001b[49m\u001b[43m)\u001b[49m\n",
      "File \u001b[0;32m~/Meet/CS626/cs626-assignment-1-first_eval/cs626-assignment-1/MLP/customDtype.py:101\u001b[0m, in \u001b[0;36mcustom.backprop\u001b[0;34m(self)\u001b[0m\n\u001b[1;32m     99\u001b[0m             topological_sort(neuron)\n\u001b[1;32m    100\u001b[0m         topo\u001b[38;5;241m.\u001b[39mappend(node)\n\u001b[0;32m--> 101\u001b[0m \u001b[43mtopological_sort\u001b[49m\u001b[43m(\u001b[49m\u001b[38;5;28;43mself\u001b[39;49m\u001b[43m)\u001b[49m\n\u001b[1;32m    102\u001b[0m topo \u001b[38;5;241m=\u001b[39m \u001b[38;5;28mreversed\u001b[39m(topo)\n\u001b[1;32m    103\u001b[0m \u001b[38;5;28mself\u001b[39m\u001b[38;5;241m.\u001b[39mgradient \u001b[38;5;241m=\u001b[39m \u001b[38;5;241m1.0\u001b[39m\n",
      "File \u001b[0;32m~/Meet/CS626/cs626-assignment-1-first_eval/cs626-assignment-1/MLP/customDtype.py:99\u001b[0m, in \u001b[0;36mcustom.backprop.<locals>.topological_sort\u001b[0;34m(node)\u001b[0m\n\u001b[1;32m     97\u001b[0m visited\u001b[38;5;241m.\u001b[39madd(node)\n\u001b[1;32m     98\u001b[0m \u001b[38;5;28;01mfor\u001b[39;00m neuron \u001b[38;5;129;01min\u001b[39;00m node\u001b[38;5;241m.\u001b[39mprev:\n\u001b[0;32m---> 99\u001b[0m     \u001b[43mtopological_sort\u001b[49m\u001b[43m(\u001b[49m\u001b[43mneuron\u001b[49m\u001b[43m)\u001b[49m\n\u001b[1;32m    100\u001b[0m topo\u001b[38;5;241m.\u001b[39mappend(node)\n",
      "File \u001b[0;32m~/Meet/CS626/cs626-assignment-1-first_eval/cs626-assignment-1/MLP/customDtype.py:99\u001b[0m, in \u001b[0;36mcustom.backprop.<locals>.topological_sort\u001b[0;34m(node)\u001b[0m\n\u001b[1;32m     97\u001b[0m visited\u001b[38;5;241m.\u001b[39madd(node)\n\u001b[1;32m     98\u001b[0m \u001b[38;5;28;01mfor\u001b[39;00m neuron \u001b[38;5;129;01min\u001b[39;00m node\u001b[38;5;241m.\u001b[39mprev:\n\u001b[0;32m---> 99\u001b[0m     \u001b[43mtopological_sort\u001b[49m\u001b[43m(\u001b[49m\u001b[43mneuron\u001b[49m\u001b[43m)\u001b[49m\n\u001b[1;32m    100\u001b[0m topo\u001b[38;5;241m.\u001b[39mappend(node)\n",
      "File \u001b[0;32m~/Meet/CS626/cs626-assignment-1-first_eval/cs626-assignment-1/MLP/customDtype.py:95\u001b[0m, in \u001b[0;36mcustom.backprop.<locals>.topological_sort\u001b[0;34m(node)\u001b[0m\n\u001b[1;32m     94\u001b[0m \u001b[38;5;28;01mdef\u001b[39;00m \u001b[38;5;21mtopological_sort\u001b[39m(node):\n\u001b[0;32m---> 95\u001b[0m     \u001b[38;5;28mprint\u001b[39m(\u001b[38;5;28mtype\u001b[39m(node),\u001b[43mnode\u001b[49m\u001b[38;5;241;43m.\u001b[39;49m\u001b[43mval\u001b[49m)\n\u001b[1;32m     96\u001b[0m     \u001b[38;5;28;01mif\u001b[39;00m node \u001b[38;5;129;01mnot\u001b[39;00m \u001b[38;5;129;01min\u001b[39;00m visited:\n\u001b[1;32m     97\u001b[0m         visited\u001b[38;5;241m.\u001b[39madd(node)\n",
      "\u001b[0;31mAttributeError\u001b[0m: 'tuple' object has no attribute 'val'"
     ]
    }
   ],
   "source": [
    "loss.backprop()"
   ]
  },
  {
   "cell_type": "code",
   "execution_count": null,
   "id": "3045f4e7",
   "metadata": {},
   "outputs": [],
   "source": [
    "for p in NN.parameters():\n",
    "    p.val += -0.01*p.gradient"
   ]
  }
 ],
 "metadata": {
  "kernelspec": {
   "display_name": "Python 3 (ipykernel)",
   "language": "python",
   "name": "python3"
  },
  "language_info": {
   "codemirror_mode": {
    "name": "ipython",
    "version": 3
   },
   "file_extension": ".py",
   "mimetype": "text/x-python",
   "name": "python",
   "nbconvert_exporter": "python",
   "pygments_lexer": "ipython3",
   "version": "3.10.6"
  }
 },
 "nbformat": 4,
 "nbformat_minor": 5
}
